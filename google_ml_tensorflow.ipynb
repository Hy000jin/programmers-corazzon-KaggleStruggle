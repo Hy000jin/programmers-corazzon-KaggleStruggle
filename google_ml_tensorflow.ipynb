{
 "cells": [
  {
   "cell_type": "markdown",
   "metadata": {},
   "source": [
    "## 구글 머신러닝 단기집중과정 소개\n",
    "https://colab.research.google.com/notebooks/mlcc/hello_world.ipynb"
   ]
  },
  {
   "cell_type": "markdown",
   "metadata": {},
   "source": [
    "#### Copyright 2017 Google LLC."
   ]
  },
  {
   "cell_type": "code",
   "execution_count": 1,
   "metadata": {},
   "outputs": [],
   "source": [
    "# Licensed under the Apache License, Version 2.0 (the \"License\");\n",
    "# you may not use this file except in compliance with the License.\n",
    "# You may obtain a copy of the License at\n",
    "#\n",
    "# https://www.apache.org/licenses/LICENSE-2.0\n",
    "#\n",
    "# Unless required by applicable law or agreed to in writing, software\n",
    "# distributed under the License is distributed on an \"AS IS\" BASIS,\n",
    "# WITHOUT WARRANTIES OR CONDITIONS OF ANY KIND, either express or implied.\n",
    "# See the License for the specific language governing permissions and\n",
    "# limitations under the License."
   ]
  },
  {
   "cell_type": "code",
   "execution_count": 7,
   "metadata": {},
   "outputs": [
    {
     "name": "stdout",
     "output_type": "stream",
     "text": [
      "b'Hello, world!'\n"
     ]
    }
   ],
   "source": [
    "import tensorflow as tf\n",
    "c = tf.constant('Hello, world!')\n",
    "with tf.Session() as sess:\n",
    "    print(sess.run(c))"
   ]
  },
  {
   "cell_type": "code",
   "execution_count": 8,
   "metadata": {},
   "outputs": [],
   "source": [
    "# !pip install tensorflow -U"
   ]
  },
  {
   "cell_type": "markdown",
   "metadata": {},
   "source": [
    " ## 유용한 단축키\n",
    "\n",
    "* **⌘/Ctrl+m,b:**는 현재 선택된 셀 아래에 빈 코드 셀을 만듭니다.\n",
    "* **⌘/Ctrl+m,i:**는 실행 중인 셀을 중단시킵니다.\n",
    "* **⌘/Ctrl+m,h:**는 모든 단축키 목록을 표시합니다.\n",
    "* 텐서플로우 API 메서드에 관한 문서를 보려면 여는 괄호 바로 오른쪽에 커서를 두고 **Tab**을 누르세요.\n",
    "\n",
    "![텐서플로우 tf.constant 메서드에 대한 문서가 표시됩니다.](https://download.mlcc.google.com/mledu-images/tf_constant_pop_up_doc.png)"
   ]
  },
  {
   "cell_type": "markdown",
   "metadata": {},
   "source": [
    "## 텐서플로우 프로그래밍 개념"
   ]
  },
  {
   "cell_type": "markdown",
   "metadata": {},
   "source": [
    "https://colab.research.google.com/notebooks/mlcc/tensorflow_programming_concepts.ipynb\n",
    "* 텐서\n",
    "    * 상수는 값이 변하지 않는 텐서를 갖고, 변수는 값이 변할 수 있는 텐서를 가진다. \n",
    "    * 상수와 변수는 그래프에서 또 다른 연산이다. \n",
    "* 노드\n",
    "* 그래프\n",
    "    * 그래프 안에 여러 Operation이 있고, 그 안에 여러가지 node와 edge가 있다. \n",
    "* 엣지\n",
    "\n",
    "\n",
    "\n"
   ]
  },
  {
   "cell_type": "code",
   "execution_count": 11,
   "metadata": {},
   "outputs": [],
   "source": [
    "# 변수\n",
    "# 1\n",
    "y = tf.Variable([5])\n",
    "\n",
    "# 2\n",
    "y = tf.Variable([0])\n",
    "y = y.assign([4])"
   ]
  },
  {
   "cell_type": "code",
   "execution_count": 12,
   "metadata": {},
   "outputs": [
    {
     "data": {
      "text/plain": [
       "<tf.Variable 'Variable_2:0' shape=(1,) dtype=int32_ref>"
      ]
     },
     "execution_count": 12,
     "metadata": {},
     "output_type": "execute_result"
    }
   ],
   "source": [
    "y"
   ]
  },
  {
   "cell_type": "markdown",
   "metadata": {},
   "source": [
    " ## 개념 개요\n",
    "텐서플로우는 임의의 차원을 갖는 배열들을 뜻하는 **텐서**에서 그 이름이 유래되었습니다.\n",
    "텐서플로우를 사용하면 차원 수가 아주 높은 텐서를 조작할 수 있습니다. 하지만 대부분은 다음과 같은 저차원 텐서 중 하나 이상을 사용하여 작업하게 됩니다.:\n",
    "  ***스칼라**는 0-d 배열(0번째 텐서)입니다.  예: `\\'Howdy\\'` 또는 `5`\n",
    "  ***벡터**는 1-d 배열(1번째 텐서)입니다.  예: `[2, 3, 5, 7, 11]` 또는 `[5]`\n",
    "  ***행렬**은 2-d 배열(2번째 텐서)입니다.  예: `[[3.1, 8.2, 5.9][4.3, -2.7, 6.5]]`\n",
    "\n",
    "텐서플로우 **연산**은 텐서를 만들고 없애고 조작합니다. 일반적인 텐서플로우 프로그램에서 대부분의 코드 행은 연산입니다.\n",
    "\n",
    "텐서플로우 **그래프**(또는 **산출 그래프**나 **데이터플로 그래프**)는 그래프 데이터 구조입니다. 많은 텐서플로우 프로그램은 하나의 그래프로 구성되어 있지만, 텐서플로우 프로그램은 여러 그래프를 만들 수도 있습니다. 그래프의 노드는 연산이고; 그래프의 엣지는 텐서입니다. 텐서는 그래프를 따라 흐르고, 각 노드에서 연산에 의해 조작됩니다. 한 연산의 출력 텐서는 보통 다음 연산의 입력 텐서가 됩니다. 텐서플로우는 **레이지 실행 모델**을 구현하는데, 이는 연결된 노드의 필요에 따라 필요할 때만 노드가 계산된다는 의미입니다.\n",
    "\n",
    "텐서는 그래프에서 **상수** 또는 **변수**로 저장될 수 있습니다. 예상할 수 있듯이 상수는 값이 변하지 않는 텐서를 가지고, 변수는 값이 변할 수 있는 텐서를 가집니다. 하지만 한 가지 예상하지 못한 점은, 상수와 변수가 그래프에서 또 다른 연산이라는 것입니다. 상수는 항상 같은 텐서 값을 반환하는 연산이고, 변수는 할당된 텐서를 반환합니다.\n",
    "\n",
    "상수를 정의하려면 `tf.constant` 연산자를 사용하여 그 값을 전달합니다. 예를 들면 다음과 같습니다.\n",
    "\n",
    "```\n",
    "  x = tf.constant([5.2])\n",
    "```\n",
    "\n",
    "유사하게 다음과 같은 변수를 만들 수 있습니다.\n",
    "\n",
    "```\n",
    "  y = tf.Variable([5])\n",
    "```\n",
    "\n",
    "또는 변수를 먼저 만든 다음, 다음과 같은 값을 할당할 수 있습니다. 참고로 항상 기본 값을 지정해야 합니다.\n",
    "\n",
    "```\n",
    "  y = tf.Variable([0])\n",
    "  y = y.assign([5])\n",
    "```\n",
    "\n",
    "일부 상수 또는 변수를 정의하면 이를 `tf.add`와 같은 연산과 병합할 수 있습니다. `tf.add` 연산을 평가할 때 `tf.constant` 또는 `tf.Variable` 연산을 호출하여 값을 얻은 다음 그 값의 합으로 새 텐서를 반환합니다.\n",
    "\n",
    "그래프는 반드시 텐서플로우 **세션** 내에서 실행되어야 합니다. 세션은 다음을 실행하는 그래프의 상태를 가집니다.\n",
    "\n",
    "```\n",
    "with tf.Session() as sess:\n",
    "  initialization = tf.global_variables_initializer()\n",
    "  print(y.eval())\n",
    "```\n",
    "\n",
    "`tf.Variable`을 사용할 때 위에서와 같이 세션 시작 시 `tf.global_variables_initializer`를 호출하여 명시적으로 초기화해야 합니다.\n",
    "\n",
    "**참고:** 세션은 여러 시스템에 그래프 실행을 분산할 수 있습니다(프로그램이 분산 계산 프레임워크에서 실행된다고 가정). 자세한 정보는 [분산 텐서플로우](https://www.tensorflow.org/deploy/distributed)를 참조하세요.\n",
    "\n",
    "### 요약\n",
    "\n",
    "텐서플로우 프로그래밍은 기본적으로 두 단계 과정입니다.\n",
    "\n",
    "1. 상수, 변수, 연산을 그래프로 결합합니다.\n",
    "2. 이 상수, 변수, 연산을 세션 내에서 평가합니다.\n"
   ]
  },
  {
   "cell_type": "code",
   "execution_count": null,
   "metadata": {},
   "outputs": [],
   "source": []
  }
 ],
 "metadata": {
  "kernelspec": {
   "display_name": "Python 3",
   "language": "python",
   "name": "python3"
  },
  "language_info": {
   "codemirror_mode": {
    "name": "ipython",
    "version": 3
   },
   "file_extension": ".py",
   "mimetype": "text/x-python",
   "name": "python",
   "nbconvert_exporter": "python",
   "pygments_lexer": "ipython3",
   "version": "3.6.5"
  }
 },
 "nbformat": 4,
 "nbformat_minor": 2
}
